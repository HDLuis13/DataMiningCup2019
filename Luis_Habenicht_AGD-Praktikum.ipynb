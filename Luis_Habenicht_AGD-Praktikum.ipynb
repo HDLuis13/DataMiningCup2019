{
 "cells": [
  {
   "cell_type": "code",
   "execution_count": 1,
   "metadata": {},
   "outputs": [],
   "source": [
    "import pandas as pd \n",
    "import numpy as np \n",
    "import matplotlib.pyplot as plt\n",
    "from pandas_profiling import ProfileReport\n",
    "from sklearn.model_selection import train_test_split \n",
    "import seaborn as sns\n"
   ]
  },
  {
   "cell_type": "code",
   "execution_count": 2,
   "metadata": {},
   "outputs": [],
   "source": [
    "df = pd.read_csv('./data/train.csv', sep='|')\n",
    "test = pd.read_csv('./data/test.csv', sep='|')"
   ]
  },
  {
   "cell_type": "markdown",
   "metadata": {},
   "source": [
    "# Data Understanding & Feature Engineering"
   ]
  },
  {
   "cell_type": "code",
   "execution_count": 3,
   "metadata": {
    "scrolled": true
   },
   "outputs": [
    {
     "data": {
      "text/html": [
       "<div>\n",
       "<style scoped>\n",
       "    .dataframe tbody tr th:only-of-type {\n",
       "        vertical-align: middle;\n",
       "    }\n",
       "\n",
       "    .dataframe tbody tr th {\n",
       "        vertical-align: top;\n",
       "    }\n",
       "\n",
       "    .dataframe thead th {\n",
       "        text-align: right;\n",
       "    }\n",
       "</style>\n",
       "<table border=\"1\" class=\"dataframe\">\n",
       "  <thead>\n",
       "    <tr style=\"text-align: right;\">\n",
       "      <th></th>\n",
       "      <th>trustLevel</th>\n",
       "      <th>totalScanTimeInSeconds</th>\n",
       "      <th>grandTotal</th>\n",
       "      <th>lineItemVoids</th>\n",
       "      <th>scansWithoutRegistration</th>\n",
       "      <th>quantityModifications</th>\n",
       "      <th>scannedLineItemsPerSecond</th>\n",
       "      <th>valuePerSecond</th>\n",
       "      <th>lineItemVoidsPerPosition</th>\n",
       "      <th>fraud</th>\n",
       "    </tr>\n",
       "  </thead>\n",
       "  <tbody>\n",
       "    <tr>\n",
       "      <th>0</th>\n",
       "      <td>5</td>\n",
       "      <td>1054</td>\n",
       "      <td>54.70</td>\n",
       "      <td>7</td>\n",
       "      <td>0</td>\n",
       "      <td>3</td>\n",
       "      <td>0.027514</td>\n",
       "      <td>0.051898</td>\n",
       "      <td>0.241379</td>\n",
       "      <td>0</td>\n",
       "    </tr>\n",
       "    <tr>\n",
       "      <th>1</th>\n",
       "      <td>3</td>\n",
       "      <td>108</td>\n",
       "      <td>27.36</td>\n",
       "      <td>5</td>\n",
       "      <td>2</td>\n",
       "      <td>4</td>\n",
       "      <td>0.129630</td>\n",
       "      <td>0.253333</td>\n",
       "      <td>0.357143</td>\n",
       "      <td>0</td>\n",
       "    </tr>\n",
       "    <tr>\n",
       "      <th>2</th>\n",
       "      <td>3</td>\n",
       "      <td>1516</td>\n",
       "      <td>62.16</td>\n",
       "      <td>3</td>\n",
       "      <td>10</td>\n",
       "      <td>5</td>\n",
       "      <td>0.008575</td>\n",
       "      <td>0.041003</td>\n",
       "      <td>0.230769</td>\n",
       "      <td>0</td>\n",
       "    </tr>\n",
       "    <tr>\n",
       "      <th>3</th>\n",
       "      <td>6</td>\n",
       "      <td>1791</td>\n",
       "      <td>92.31</td>\n",
       "      <td>8</td>\n",
       "      <td>4</td>\n",
       "      <td>4</td>\n",
       "      <td>0.016192</td>\n",
       "      <td>0.051541</td>\n",
       "      <td>0.275862</td>\n",
       "      <td>0</td>\n",
       "    </tr>\n",
       "    <tr>\n",
       "      <th>4</th>\n",
       "      <td>5</td>\n",
       "      <td>430</td>\n",
       "      <td>81.53</td>\n",
       "      <td>3</td>\n",
       "      <td>7</td>\n",
       "      <td>2</td>\n",
       "      <td>0.062791</td>\n",
       "      <td>0.189605</td>\n",
       "      <td>0.111111</td>\n",
       "      <td>0</td>\n",
       "    </tr>\n",
       "  </tbody>\n",
       "</table>\n",
       "</div>"
      ],
      "text/plain": [
       "   trustLevel  totalScanTimeInSeconds  grandTotal  lineItemVoids  \\\n",
       "0           5                    1054       54.70              7   \n",
       "1           3                     108       27.36              5   \n",
       "2           3                    1516       62.16              3   \n",
       "3           6                    1791       92.31              8   \n",
       "4           5                     430       81.53              3   \n",
       "\n",
       "   scansWithoutRegistration  quantityModifications  scannedLineItemsPerSecond  \\\n",
       "0                         0                      3                   0.027514   \n",
       "1                         2                      4                   0.129630   \n",
       "2                        10                      5                   0.008575   \n",
       "3                         4                      4                   0.016192   \n",
       "4                         7                      2                   0.062791   \n",
       "\n",
       "   valuePerSecond  lineItemVoidsPerPosition  fraud  \n",
       "0        0.051898                  0.241379      0  \n",
       "1        0.253333                  0.357143      0  \n",
       "2        0.041003                  0.230769      0  \n",
       "3        0.051541                  0.275862      0  \n",
       "4        0.189605                  0.111111      0  "
      ]
     },
     "execution_count": 3,
     "metadata": {},
     "output_type": "execute_result"
    }
   ],
   "source": [
    "df.head()"
   ]
  },
  {
   "cell_type": "markdown",
   "metadata": {},
   "source": [
    "Looking at the data at second glance, I saw that the column for the total amount of scanned line items is missing. \n",
    "Luckily, it can be calculated using the totalScanTimeInSeconds and the scannedLineItemsPerSecond columns. "
   ]
  },
  {
   "cell_type": "code",
   "execution_count": 4,
   "metadata": {},
   "outputs": [],
   "source": [
    "df['scannedLineItems'] = (df['totalScanTimeInSeconds']*df['scannedLineItemsPerSecond']).apply(lambda x: np.around(x, 2))"
   ]
  },
  {
   "cell_type": "code",
   "execution_count": 5,
   "metadata": {},
   "outputs": [
    {
     "data": {
      "text/plain": [
       "array([29., 14., 13., 27., 26., 11., 10., 16., 20., 21.,  6., 22., 24.,\n",
       "        4., 19., 15.,  5.,  8.,  1.,  9., 30., 25.,  7.,  2., 28., 23.,\n",
       "       17., 18.,  3., 12.])"
      ]
     },
     "execution_count": 5,
     "metadata": {},
     "output_type": "execute_result"
    }
   ],
   "source": [
    "# check if we only have integer numbers\n",
    "df['scannedLineItems'].unique()"
   ]
  },
  {
   "cell_type": "code",
   "execution_count": 6,
   "metadata": {},
   "outputs": [],
   "source": [
    "# convert the dtype to int\n",
    "df['scannedLineItems'] = df['scannedLineItems'].astype(int)"
   ]
  },
  {
   "cell_type": "code",
   "execution_count": 7,
   "metadata": {},
   "outputs": [],
   "source": [
    "# Getting an overview of the whole dataset by using pandas-profiling\n",
    "profile = ProfileReport(df, title='Pandas Profiling Report', html={'style':{'full_width':True}})"
   ]
  },
  {
   "cell_type": "code",
   "execution_count": 8,
   "metadata": {
    "scrolled": false
   },
   "outputs": [
    {
     "data": {
      "application/vnd.jupyter.widget-view+json": {
       "model_id": "81bdc16fa09d422fa23bb6e25afabaa6",
       "version_major": 2,
       "version_minor": 0
      },
      "text/plain": [
       "Tab(children=(HTML(value='<div id=\"overview-content\" class=\"row variable spacing\">\\n    <div class=\"row\">\\n   …"
      ]
     },
     "metadata": {},
     "output_type": "display_data"
    },
    {
     "data": {
      "text/html": [
       "Report generated with <a href=\"https://github.com/pandas-profiling/pandas-profiling\">pandas-profiling</a>."
      ],
      "text/plain": [
       "<IPython.core.display.HTML object>"
      ]
     },
     "metadata": {},
     "output_type": "display_data"
    },
    {
     "data": {
      "text/plain": []
     },
     "execution_count": 8,
     "metadata": {},
     "output_type": "execute_result"
    }
   ],
   "source": [
    "# looking if any values are missing, how they are distributed, and if there are any significant correlations\n",
    "# of the features with the label \n",
    "\n",
    "# Create an html file for submission \n",
    "profile.to_file(output_file=\"data-profile.html\")\n",
    "\n",
    "# Showing profile inline\n",
    "profile"
   ]
  },
  {
   "cell_type": "code",
   "execution_count": 9,
   "metadata": {
    "scrolled": true
   },
   "outputs": [
    {
     "data": {
      "text/plain": [
       "trustLevel                  -0.319765\n",
       "lineItemVoidsPerPosition    -0.090116\n",
       "valuePerSecond              -0.028873\n",
       "scannedLineItemsPerSecond   -0.023085\n",
       "quantityModifications       -0.000864\n",
       "grandTotal                   0.001421\n",
       "lineItemVoids                0.063496\n",
       "scansWithoutRegistration     0.074123\n",
       "totalScanTimeInSeconds       0.110414\n",
       "scannedLineItems             0.298423\n",
       "fraud                        1.000000\n",
       "Name: fraud, dtype: float64"
      ]
     },
     "execution_count": 9,
     "metadata": {},
     "output_type": "execute_result"
    }
   ],
   "source": [
    "df.corr()['fraud'].sort_values()"
   ]
  },
  {
   "cell_type": "markdown",
   "metadata": {},
   "source": [
    "There are a few features, that correlate significantly with the data, namly trustLevel and scannedLineItems "
   ]
  },
  {
   "cell_type": "code",
   "execution_count": 10,
   "metadata": {},
   "outputs": [],
   "source": [
    "# divide the data by the label for data exploration purpose\n",
    "non_fraud, fraud = df[df['fraud']==0], df[df['fraud']==1]"
   ]
  },
  {
   "cell_type": "code",
   "execution_count": 11,
   "metadata": {},
   "outputs": [
    {
     "data": {
      "text/plain": [
       "<matplotlib.axes._subplots.AxesSubplot at 0x266012a6d48>"
      ]
     },
     "execution_count": 11,
     "metadata": {},
     "output_type": "execute_result"
    },
    {
     "data": {
      "image/png": "[encoded data removed]",
      "text/plain": [
       "<Figure size 576x396 with 1 Axes>"
      ]
     },
     "metadata": {},
     "output_type": "display_data"
    }
   ],
   "source": [
    "# Plot the distribution of trustlevel divided by the label\n",
    "sns.distplot(non_fraud['trustLevel'])\n",
    "sns.distplot(fraud['trustLevel'])"
   ]
  },
  {
   "cell_type": "code",
   "execution_count": 12,
   "metadata": {
    "scrolled": true
   },
   "outputs": [
    {
     "data": {
      "text/plain": [
       "1    89\n",
       "2    15\n",
       "Name: trustLevel, dtype: int64"
      ]
     },
     "execution_count": 12,
     "metadata": {},
     "output_type": "execute_result"
    }
   ],
   "source": [
    "fraud['trustLevel'].value_counts()"
   ]
  },
  {
   "cell_type": "markdown",
   "metadata": {},
   "source": [
    "Fraud transactions (orange color) always have a trustLevel below 3 "
   ]
  },
  {
   "cell_type": "code",
   "execution_count": 13,
   "metadata": {},
   "outputs": [
    {
     "data": {
      "text/plain": [
       "<matplotlib.axes._subplots.AxesSubplot at 0x26675025b48>"
      ]
     },
     "execution_count": 13,
     "metadata": {},
     "output_type": "execute_result"
    },
    {
     "data": {
      "image/png": "[encoded data removed]",
      "text/plain": [
       "<Figure size 576x396 with 1 Axes>"
      ]
     },
     "metadata": {},
     "output_type": "display_data"
    }
   ],
   "source": [
    "sns.distplot(non_fraud['scannedLineItems'])\n",
    "sns.distplot(fraud['scannedLineItems'])"
   ]
  },
  {
   "cell_type": "code",
   "execution_count": 14,
   "metadata": {},
   "outputs": [
    {
     "data": {
      "text/plain": [
       "27    15\n",
       "30    14\n",
       "28    14\n",
       "29    11\n",
       "26    11\n",
       "25    11\n",
       "23     9\n",
       "24     7\n",
       "22     3\n",
       "21     3\n",
       "19     3\n",
       "20     2\n",
       "18     1\n",
       "Name: scannedLineItems, dtype: int64"
      ]
     },
     "execution_count": 14,
     "metadata": {},
     "output_type": "execute_result"
    }
   ],
   "source": [
    "fraud['scannedLineItems'].value_counts()"
   ]
  },
  {
   "cell_type": "markdown",
   "metadata": {},
   "source": [
    "Fraud transactions (orange color) always contain more than 17 Items"
   ]
  },
  {
   "cell_type": "code",
   "execution_count": 15,
   "metadata": {},
   "outputs": [
    {
     "data": {
      "text/plain": [
       "<matplotlib.axes._subplots.AxesSubplot at 0x26675c0da48>"
      ]
     },
     "execution_count": 15,
     "metadata": {},
     "output_type": "execute_result"
    },
    {
     "data": {
      "image/png": "[encoded data removed]",
      "text/plain": [
       "<Figure size 576x396 with 1 Axes>"
      ]
     },
     "metadata": {},
     "output_type": "display_data"
    }
   ],
   "source": [
    "sns.distplot(non_fraud['totalScanTimeInSeconds'])\n",
    "sns.distplot(fraud['totalScanTimeInSeconds'])"
   ]
  },
  {
   "cell_type": "code",
   "execution_count": 16,
   "metadata": {},
   "outputs": [
    {
     "data": {
      "text/plain": [
       "<matplotlib.axes._subplots.AxesSubplot at 0x266751a4ec8>"
      ]
     },
     "execution_count": 16,
     "metadata": {},
     "output_type": "execute_result"
    },
    {
     "data": {
      "image/png": "[encoded data removed]",
      "text/plain": [
       "<Figure size 576x396 with 1 Axes>"
      ]
     },
     "metadata": {},
     "output_type": "display_data"
    }
   ],
   "source": [
    "sns.distplot(non_fraud['lineItemVoidsPerPosition'])\n",
    "sns.distplot(fraud['lineItemVoidsPerPosition'])"
   ]
  },
  {
   "cell_type": "code",
   "execution_count": 17,
   "metadata": {},
   "outputs": [
    {
     "data": {
      "text/plain": [
       "<matplotlib.axes._subplots.AxesSubplot at 0x26600108608>"
      ]
     },
     "execution_count": 17,
     "metadata": {},
     "output_type": "execute_result"
    },
    {
     "data": {
      "image/png": "[encoded data removed]",
      "text/plain": [
       "<Figure size 576x396 with 1 Axes>"
      ]
     },
     "metadata": {},
     "output_type": "display_data"
    }
   ],
   "source": [
    "sns.distplot(non_fraud['scansWithoutRegistration'])\n",
    "sns.distplot(fraud['scansWithoutRegistration'])"
   ]
  },
  {
   "cell_type": "markdown",
   "metadata": {},
   "source": [
    "The last 3 plots don't help us that much in finding a general rule"
   ]
  },
  {
   "cell_type": "markdown",
   "metadata": {},
   "source": [
    "# Models"
   ]
  },
  {
   "cell_type": "code",
   "execution_count": 18,
   "metadata": {},
   "outputs": [],
   "source": [
    "# Split the data in features and labels\n",
    "X = df.drop(['fraud'], axis=1)\n",
    "y = df['fraud']"
   ]
  },
  {
   "cell_type": "code",
   "execution_count": 19,
   "metadata": {},
   "outputs": [],
   "source": [
    "from sklearn.model_selection import cross_validate\n",
    "from sklearn.metrics import make_scorer, f1_score, accuracy_score, precision_score, recall_score"
   ]
  },
  {
   "cell_type": "code",
   "execution_count": 20,
   "metadata": {},
   "outputs": [],
   "source": [
    "# create the error function, that is demanded by the challenge rules\n",
    "# adapt the the error to display the value per line item, so it is comparable between different dataset sizes\n",
    "def challenge_error(y_true, y_pred, print_stats=False): \n",
    "    TP = 0\n",
    "    FP = 0\n",
    "    TN = 0\n",
    "    FN = 0\n",
    "    # convert to array, or else we can get strange key errors\n",
    "    y_true = list(y_true)\n",
    "    y_pred = list(y_pred)\n",
    "    \n",
    "    # determine TP, FP, TN and FN \n",
    "    for i in range(len(y_true)): \n",
    "        if y_true[i]==y_pred[i]==1:\n",
    "            TP += 1\n",
    "        if y_pred[i]==1 and y_pred[i]!=y_true[i]:\n",
    "            FP += 1\n",
    "        if y_true[i]==y_pred[i]==0:\n",
    "            TN += 1\n",
    "        if y_pred[i]==0 and y_pred[i]!=y_true[i]:\n",
    "            FN += 1\n",
    "    # option to display detailed results        \n",
    "    if print_stats: \n",
    "        print(\"TP (correctly identified fraud): {} - {}€\\nFP (incorrectly labeled fraud): {} - {}€\\nFN (missed fraud detection): {} - {}€\\nTN: {}\\n\\nTotal: {}€\"\n",
    "                .format(TP, TP*5, FP, FP*-25, FN, FN*-5, TN, TP*5+FP*-25+FN*-5))\n",
    "    \n",
    "    return (TP*5 + FP*-25 + FN*-5)/len(y_true)\n",
    "    "
   ]
  },
  {
   "cell_type": "code",
   "execution_count": 21,
   "metadata": {},
   "outputs": [],
   "source": [
    "# make error function a scoring function for scikit-learn\n",
    "scoring = {'error' : make_scorer(challenge_error)}"
   ]
  },
  {
   "cell_type": "markdown",
   "metadata": {},
   "source": [
    "## DummyClassifier"
   ]
  },
  {
   "cell_type": "markdown",
   "metadata": {},
   "source": [
    "At first, I will see how a dummy classifier would perform \n",
    "Here I decided to check what the error score would be, if we wouldn't try to detect frauds at all "
   ]
  },
  {
   "cell_type": "code",
   "execution_count": 22,
   "metadata": {},
   "outputs": [
    {
     "name": "stdout",
     "output_type": "stream",
     "text": [
      "TP (correctly identified fraud): 0 - 0€\n",
      "FP (incorrectly labeled fraud): 0 - 0€\n",
      "FN (missed fraud detection): 104 - -520€\n",
      "TN: 1775\n",
      "\n",
      "Total: -520€\n"
     ]
    },
    {
     "data": {
      "text/plain": [
       "-0.2767429483767962"
      ]
     },
     "execution_count": 22,
     "metadata": {},
     "output_type": "execute_result"
    }
   ],
   "source": [
    "from sklearn.dummy import DummyClassifier\n",
    "\n",
    "clf = DummyClassifier(strategy='most_frequent')\n",
    "clf.fit(X,y)\n",
    "y_pred = clf.predict(X)\n",
    "challenge_error(y, y_pred, print_stats=True)"
   ]
  },
  {
   "cell_type": "markdown",
   "metadata": {},
   "source": [
    "This will be the first baseline, that other models will have to top"
   ]
  },
  {
   "cell_type": "markdown",
   "metadata": {},
   "source": [
    "## Logical Reasoning"
   ]
  },
  {
   "cell_type": "markdown",
   "metadata": {},
   "source": [
    "### Part 1\n",
    "\n",
    "We already saw a few patterns in the data.\n",
    "Maybe we can just built some basic general rules, that will help us detect the frauds?! "
   ]
  },
  {
   "cell_type": "code",
   "execution_count": 23,
   "metadata": {},
   "outputs": [
    {
     "data": {
      "text/plain": [
       "0    191\n",
       "1    104\n",
       "Name: fraud, dtype: int64"
      ]
     },
     "execution_count": 23,
     "metadata": {},
     "output_type": "execute_result"
    }
   ],
   "source": [
    "# Check how many data points would be fraud and non-fraud using the general rule\n",
    "df[(df['trustLevel']<=2) & (df['scannedLineItems']>=18)]['fraud'].value_counts()"
   ]
  },
  {
   "cell_type": "code",
   "execution_count": 24,
   "metadata": {},
   "outputs": [
    {
     "data": {
      "text/plain": [
       "0    520\n",
       "Name: fraud, dtype: int64"
      ]
     },
     "execution_count": 24,
     "metadata": {},
     "output_type": "execute_result"
    }
   ],
   "source": [
    "df[~(df['trustLevel']<=2) & (df['scannedLineItems']>=18)]['fraud'].value_counts()"
   ]
  },
  {
   "cell_type": "markdown",
   "metadata": {},
   "source": [
    "We can see, that we narrowed down the data to a smaller set (suspicious transactions), while still not missing any frauds"
   ]
  },
  {
   "cell_type": "code",
   "execution_count": 25,
   "metadata": {
    "scrolled": true
   },
   "outputs": [
    {
     "name": "stdout",
     "output_type": "stream",
     "text": [
      "TP (correctly identified fraud): 104 - 520€\n",
      "FP (incorrectly labeled fraud): 191 - -4775€\n",
      "FN (missed fraud detection): 0 - 0€\n",
      "TN: 1584\n",
      "\n",
      "Total: -4255€\n"
     ]
    },
    {
     "data": {
      "text/plain": [
       "-2.2645023948908993"
      ]
     },
     "execution_count": 25,
     "metadata": {},
     "output_type": "execute_result"
    }
   ],
   "source": [
    "# check performance using the general rule\n",
    "y_pred = np.where(((X['trustLevel']<=2)&(X['scannedLineItems']>=18)), 1, 0)\n",
    "challenge_error(y, y_pred, print_stats=True)"
   ]
  },
  {
   "cell_type": "markdown",
   "metadata": {},
   "source": [
    "This didn't go well, mainly because we labeled a lot of transactions as fraud that weren't. \n",
    "Because this is penalized very strong, we actually performing worse than not trying to detect any frauds at all. "
   ]
  },
  {
   "cell_type": "markdown",
   "metadata": {},
   "source": [
    "### Part 2\n",
    "\n",
    "We can try to adjust our rule, by not labeling every suspicious transaction as fraud, but by actually looking at the percentage of transactions that are fraud in the suspicious transactions and labeling them using this relative frequency"
   ]
  },
  {
   "cell_type": "code",
   "execution_count": 26,
   "metadata": {
    "scrolled": true
   },
   "outputs": [
    {
     "data": {
      "text/plain": [
       "0.3525423728813559"
      ]
     },
     "execution_count": 26,
     "metadata": {},
     "output_type": "execute_result"
    }
   ],
   "source": [
    "# Use the rule identified above: trustLevel below 3 and scannedLineItems above 17\n",
    "pattern = df[(df['trustLevel']<=2) & (df['scannedLineItems']>=18)]['fraud'].value_counts()\n",
    "p1 = pattern[0]/pattern.sum()\n",
    "p2 = pattern[1]/pattern.sum()\n",
    "p2"
   ]
  },
  {
   "cell_type": "markdown",
   "metadata": {},
   "source": [
    "35% of the suspicous transactions are fraud"
   ]
  },
  {
   "cell_type": "code",
   "execution_count": 27,
   "metadata": {},
   "outputs": [
    {
     "name": "stdout",
     "output_type": "stream",
     "text": [
      "TP (correctly identified fraud): 35 - 175€\n",
      "FP (incorrectly labeled fraud): 74 - -1850€\n",
      "FN (missed fraud detection): 69 - -345€\n",
      "TN: 1701\n",
      "\n",
      "Total: -2020€\n"
     ]
    },
    {
     "data": {
      "text/plain": [
       "-1.0750399148483236"
      ]
     },
     "execution_count": 27,
     "metadata": {},
     "output_type": "execute_result"
    }
   ],
   "source": [
    "y_pred = []\n",
    "for _, val in X.iterrows():\n",
    "    if (val['trustLevel']<=2) & (val['scannedLineItems']>=18):\n",
    "        y_pred.append(np.random.choice(2, p=[p1, p2]))\n",
    "    else:\n",
    "        y_pred.append(0)\n",
    "challenge_error(y, y_pred, print_stats=True)"
   ]
  },
  {
   "cell_type": "markdown",
   "metadata": {},
   "source": [
    "This worked way better than the first try but not as good as not detecting any frauds at all. \n",
    "We still have a huge amount of transactions incorretly labeled as fraud. "
   ]
  },
  {
   "cell_type": "markdown",
   "metadata": {},
   "source": [
    "### Part 3\n",
    "\n",
    "With the huge penalty for FPs in mind, we can generate a stricter rule, when we classify suspicous transactions as fraud. \n"
   ]
  },
  {
   "cell_type": "code",
   "execution_count": 28,
   "metadata": {},
   "outputs": [
    {
     "data": {
      "text/plain": [
       "0.7777777777777778"
      ]
     },
     "execution_count": 28,
     "metadata": {},
     "output_type": "execute_result"
    }
   ],
   "source": [
    "# Change the rule to trustLevel below 2 and scannedLineItems above 22\n",
    "pattern = df[(df['trustLevel']<=1) & (df['scannedLineItems']>=23)]['fraud'].value_counts()\n",
    "p1 = pattern[0]/pattern.sum()\n",
    "p2 = pattern[1]/pattern.sum()\n",
    "p2"
   ]
  },
  {
   "cell_type": "markdown",
   "metadata": {},
   "source": [
    "Now 77.7% of the suspicious transactions are actually fraud. \n",
    "That relative frequency is used again to identify fraud transactions"
   ]
  },
  {
   "cell_type": "code",
   "execution_count": 29,
   "metadata": {},
   "outputs": [
    {
     "name": "stdout",
     "output_type": "stream",
     "text": [
      "TP (correctly identified fraud): 48 - 240€\n",
      "FP (incorrectly labeled fraud): 11 - -275€\n",
      "FN (missed fraud detection): 56 - -280€\n",
      "TN: 1764\n",
      "\n",
      "Total: -315€\n"
     ]
    },
    {
     "data": {
      "text/plain": [
       "-0.16764236295902077"
      ]
     },
     "execution_count": 29,
     "metadata": {},
     "output_type": "execute_result"
    }
   ],
   "source": [
    "y_pred = []\n",
    "for _, val in X.iterrows():\n",
    "    if (val['trustLevel']<=1) & (val['scannedLineItems']>=25):\n",
    "        y_pred.append(np.random.choice(2, p=[p1, p2]))\n",
    "    else:\n",
    "        y_pred.append(0)\n",
    "challenge_error(y, y_pred, print_stats=True)"
   ]
  },
  {
   "cell_type": "markdown",
   "metadata": {},
   "source": [
    "Now we are actually performing better than not labeling frauds at all! \n",
    "Let's use that as our new baseline. "
   ]
  },
  {
   "cell_type": "markdown",
   "metadata": {},
   "source": [
    "## SVM / SVC / SGDClassifier"
   ]
  },
  {
   "cell_type": "code",
   "execution_count": 30,
   "metadata": {},
   "outputs": [
    {
     "name": "stdout",
     "output_type": "stream",
     "text": [
      "0.17295744680851063\n"
     ]
    },
    {
     "data": {
      "text/plain": [
       "{'fit_time': array([0.00399947, 0.00399971, 0.        , 0.00400066, 0.0040133 ]),\n",
       " 'score_time': array([0.        , 0.        , 0.00399947, 0.        , 0.        ]),\n",
       " 'test_error': array([0.06648936, 0.22606383, 0.27925532, 0.13297872, 0.16      ]),\n",
       " 'train_error': array([0.22621424, 0.17964072, 0.15968064, 0.17964072, 0.1462766 ])}"
      ]
     },
     "execution_count": 30,
     "metadata": {},
     "output_type": "execute_result"
    }
   ],
   "source": [
    "from sklearn.svm import LinearSVC\n",
    "from sklearn.preprocessing import MinMaxScaler\n",
    "\n",
    "# random seed\n",
    "rs = 1 \n",
    "\n",
    "clf1 = LinearSVC(random_state=rs)\n",
    "scaler = MinMaxScaler()\n",
    "X_scaled = scaler.fit_transform(X)\n",
    "scores = cross_validate(clf1, X_scaled, y, cv=5, scoring=scoring, return_train_score=True)\n",
    "print(scores['test_error'].mean())\n",
    "scores\n"
   ]
  },
  {
   "cell_type": "code",
   "execution_count": 31,
   "metadata": {},
   "outputs": [
    {
     "name": "stdout",
     "output_type": "stream",
     "text": [
      "0.07711347517730496\n"
     ]
    },
    {
     "data": {
      "text/plain": [
       "{'fit_time': array([0.01199818, 0.00801039, 0.01199889, 0.0080018 , 0.00799918]),\n",
       " 'score_time': array([0.        , 0.        , 0.        , 0.00400233, 0.        ]),\n",
       " 'test_error': array([ 0.07978723,  0.07978723,  0.17287234,  0.07978723, -0.02666667]),\n",
       " 'train_error': array([0.166334  , 0.17631404, 0.1497006 , 0.14304724, 0.11968085])}"
      ]
     },
     "execution_count": 31,
     "metadata": {},
     "output_type": "execute_result"
    }
   ],
   "source": [
    "from sklearn.svm import SVC\n",
    "clf2 = SVC(random_state=rs)\n",
    "scores = cross_validate(clf2, X_scaled, y, cv=5, scoring=scoring, return_train_score=True)\n",
    "print(scores['test_error'].mean())\n",
    "scores"
   ]
  },
  {
   "cell_type": "code",
   "execution_count": 32,
   "metadata": {},
   "outputs": [
    {
     "name": "stdout",
     "output_type": "stream",
     "text": [
      "0.11179432624113476\n"
     ]
    },
    {
     "data": {
      "text/plain": [
       "{'fit_time': array([0.00202727, 0.        , 0.00400305, 0.        , 0.        ]),\n",
       " 'score_time': array([0.        , 0.        , 0.        , 0.00400329, 0.        ]),\n",
       " 'test_error': array([-0.1462766 ,  0.1462766 ,  0.21276596,  0.17287234,  0.17333333]),\n",
       " 'train_error': array([-0.11310712,  0.12974052,  0.0998004 ,  0.12974052,  0.15625   ])}"
      ]
     },
     "execution_count": 32,
     "metadata": {},
     "output_type": "execute_result"
    }
   ],
   "source": [
    "from sklearn.linear_model import SGDClassifier\n",
    "clf3 = SGDClassifier(random_state=rs)\n",
    "scores = cross_validate(clf3, X_scaled, y, cv=5, scoring=scoring, return_train_score=True)\n",
    "print(scores['test_error'].mean())\n",
    "scores"
   ]
  },
  {
   "cell_type": "markdown",
   "metadata": {},
   "source": [
    "This worked pretty well already! \n",
    "With scaled features we achieve a positive score, meaning we would actually make money with our new method. "
   ]
  },
  {
   "cell_type": "markdown",
   "metadata": {},
   "source": [
    "## Voting Classifier"
   ]
  },
  {
   "cell_type": "code",
   "execution_count": 33,
   "metadata": {
    "scrolled": false
   },
   "outputs": [
    {
     "name": "stdout",
     "output_type": "stream",
     "text": [
      "0.1915744680851064\n"
     ]
    },
    {
     "data": {
      "text/plain": [
       "{'fit_time': array([0.01606035, 0.01326251, 0.01204538, 0.01200151, 0.01200008]),\n",
       " 'score_time': array([0.00398278, 0.00398469, 0.00399542, 0.00400352, 0.00400043]),\n",
       " 'test_error': array([0.09308511, 0.22606383, 0.27925532, 0.19946809, 0.16      ]),\n",
       " 'train_error': array([0.20958084, 0.166334  , 0.17298736, 0.1497006 , 0.15625   ])}"
      ]
     },
     "execution_count": 33,
     "metadata": {},
     "output_type": "execute_result"
    }
   ],
   "source": [
    "from sklearn.ensemble import VotingClassifier\n",
    "eclf1 = VotingClassifier(estimators=[('svm', clf1), ('svc', clf2), ('sgd', clf3)], voting='hard')\n",
    "scores = cross_validate(eclf1, X_scaled, y, cv=5, scoring=scoring, return_train_score=True)\n",
    "print(scores['test_error'].mean())\n",
    "scores"
   ]
  },
  {
   "cell_type": "markdown",
   "metadata": {},
   "source": [
    "Instead of deciding for one classifier, we can just use the 3 of them combined and use a voting classifier ontop, that assigns the label according to the majority vote.\n",
    "As we can see, it also performs better on our training set. "
   ]
  },
  {
   "cell_type": "markdown",
   "metadata": {},
   "source": [
    "## Labeling final submission data"
   ]
  },
  {
   "cell_type": "code",
   "execution_count": 34,
   "metadata": {},
   "outputs": [
    {
     "data": {
      "text/plain": [
       "VotingClassifier(estimators=[('svm',\n",
       "                              LinearSVC(C=1.0, class_weight=None, dual=True,\n",
       "                                        fit_intercept=True, intercept_scaling=1,\n",
       "                                        loss='squared_hinge', max_iter=1000,\n",
       "                                        multi_class='ovr', penalty='l2',\n",
       "                                        random_state=1, tol=0.0001,\n",
       "                                        verbose=0)),\n",
       "                             ('svc',\n",
       "                              SVC(C=1.0, break_ties=False, cache_size=200,\n",
       "                                  class_weight=None, coef0=0.0,\n",
       "                                  decision_function_shape='ovr', degree=3,\n",
       "                                  gamma='scal...\n",
       "                                            class_weight=None,\n",
       "                                            early_stopping=False, epsilon=0.1,\n",
       "                                            eta0=0.0, fit_intercept=True,\n",
       "                                            l1_ratio=0.15,\n",
       "                                            learning_rate='optimal',\n",
       "                                            loss='hinge', max_iter=1000,\n",
       "                                            n_iter_no_change=5, n_jobs=None,\n",
       "                                            penalty='l2', power_t=0.5,\n",
       "                                            random_state=1, shuffle=True,\n",
       "                                            tol=0.001, validation_fraction=0.1,\n",
       "                                            verbose=0, warm_start=False))],\n",
       "                 flatten_transform=True, n_jobs=None, voting='hard',\n",
       "                 weights=None)"
      ]
     },
     "execution_count": 34,
     "metadata": {},
     "output_type": "execute_result"
    }
   ],
   "source": [
    "# Use the ensemble classifier for labeling the submission data\n",
    "eclf1.fit(X_scaled,y) "
   ]
  },
  {
   "cell_type": "code",
   "execution_count": 35,
   "metadata": {},
   "outputs": [],
   "source": [
    "X_test = test\n",
    "# \"Pipeline\" to calculate scannedLineItems feature\n",
    "X_test['scannedLineItems'] = (test['totalScanTimeInSeconds']*test['scannedLineItemsPerSecond']).apply(lambda x: np.around(x, 2)).astype(int)\n",
    "X_test_scaled = scaler.transform(X_test)"
   ]
  },
  {
   "cell_type": "code",
   "execution_count": 36,
   "metadata": {},
   "outputs": [],
   "source": [
    "y_pred = eclf1.predict(X_test_scaled)"
   ]
  },
  {
   "cell_type": "code",
   "execution_count": 37,
   "metadata": {},
   "outputs": [],
   "source": [
    "output = pd.DataFrame({'fraud': y_pred})\n",
    "output.to_csv('./data/Luis_Habenicht-prediction.csv', index=False)"
   ]
  }
 ],
 "metadata": {
  "kernelspec": {
   "display_name": "Python 3",
   "language": "python",
   "name": "python3"
  },
  "language_info": {
   "codemirror_mode": {
    "name": "ipython",
    "version": 3
   },
   "file_extension": ".py",
   "mimetype": "text/x-python",
   "name": "python",
   "nbconvert_exporter": "python",
   "pygments_lexer": "ipython3",
   "version": "3.7.5"
  }
 },
 "nbformat": 4,
 "nbformat_minor": 2
}
