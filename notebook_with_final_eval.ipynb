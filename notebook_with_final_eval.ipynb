{
 "cells": [
  {
   "cell_type": "code",
   "execution_count": 1,
   "metadata": {},
   "outputs": [],
   "source": [
    "import pandas as pd \n",
    "import numpy as np \n",
    "import matplotlib.pyplot as plt\n",
    "from pandas_profiling import ProfileReport\n",
    "from sklearn.model_selection import train_test_split \n",
    "import seaborn as sns\n"
   ]
  },
  {
   "cell_type": "code",
   "execution_count": 67,
   "metadata": {},
   "outputs": [],
   "source": [
    "df = pd.read_csv('./data/train.csv', sep='|')\n",
    "test = pd.read_csv('./data/test.csv', sep='|')"
   ]
  },
  {
   "cell_type": "markdown",
   "metadata": {},
   "source": [
    "# Data Understanding & Feature Engineering"
   ]
  },
  {
   "cell_type": "code",
   "execution_count": 3,
   "metadata": {
    "scrolled": true
   },
   "outputs": [
    {
     "data": {
      "text/html": [
       "<div>\n",
       "<style scoped>\n",
       "    .dataframe tbody tr th:only-of-type {\n",
       "        vertical-align: middle;\n",
       "    }\n",
       "\n",
       "    .dataframe tbody tr th {\n",
       "        vertical-align: top;\n",
       "    }\n",
       "\n",
       "    .dataframe thead th {\n",
       "        text-align: right;\n",
       "    }\n",
       "</style>\n",
       "<table border=\"1\" class=\"dataframe\">\n",
       "  <thead>\n",
       "    <tr style=\"text-align: right;\">\n",
       "      <th></th>\n",
       "      <th>trustLevel</th>\n",
       "      <th>totalScanTimeInSeconds</th>\n",
       "      <th>grandTotal</th>\n",
       "      <th>lineItemVoids</th>\n",
       "      <th>scansWithoutRegistration</th>\n",
       "      <th>quantityModifications</th>\n",
       "      <th>scannedLineItemsPerSecond</th>\n",
       "      <th>valuePerSecond</th>\n",
       "      <th>lineItemVoidsPerPosition</th>\n",
       "      <th>fraud</th>\n",
       "    </tr>\n",
       "  </thead>\n",
       "  <tbody>\n",
       "    <tr>\n",
       "      <th>0</th>\n",
       "      <td>5</td>\n",
       "      <td>1054</td>\n",
       "      <td>54.70</td>\n",
       "      <td>7</td>\n",
       "      <td>0</td>\n",
       "      <td>3</td>\n",
       "      <td>0.027514</td>\n",
       "      <td>0.051898</td>\n",
       "      <td>0.241379</td>\n",
       "      <td>0</td>\n",
       "    </tr>\n",
       "    <tr>\n",
       "      <th>1</th>\n",
       "      <td>3</td>\n",
       "      <td>108</td>\n",
       "      <td>27.36</td>\n",
       "      <td>5</td>\n",
       "      <td>2</td>\n",
       "      <td>4</td>\n",
       "      <td>0.129630</td>\n",
       "      <td>0.253333</td>\n",
       "      <td>0.357143</td>\n",
       "      <td>0</td>\n",
       "    </tr>\n",
       "    <tr>\n",
       "      <th>2</th>\n",
       "      <td>3</td>\n",
       "      <td>1516</td>\n",
       "      <td>62.16</td>\n",
       "      <td>3</td>\n",
       "      <td>10</td>\n",
       "      <td>5</td>\n",
       "      <td>0.008575</td>\n",
       "      <td>0.041003</td>\n",
       "      <td>0.230769</td>\n",
       "      <td>0</td>\n",
       "    </tr>\n",
       "    <tr>\n",
       "      <th>3</th>\n",
       "      <td>6</td>\n",
       "      <td>1791</td>\n",
       "      <td>92.31</td>\n",
       "      <td>8</td>\n",
       "      <td>4</td>\n",
       "      <td>4</td>\n",
       "      <td>0.016192</td>\n",
       "      <td>0.051541</td>\n",
       "      <td>0.275862</td>\n",
       "      <td>0</td>\n",
       "    </tr>\n",
       "    <tr>\n",
       "      <th>4</th>\n",
       "      <td>5</td>\n",
       "      <td>430</td>\n",
       "      <td>81.53</td>\n",
       "      <td>3</td>\n",
       "      <td>7</td>\n",
       "      <td>2</td>\n",
       "      <td>0.062791</td>\n",
       "      <td>0.189605</td>\n",
       "      <td>0.111111</td>\n",
       "      <td>0</td>\n",
       "    </tr>\n",
       "  </tbody>\n",
       "</table>\n",
       "</div>"
      ],
      "text/plain": [
       "   trustLevel  totalScanTimeInSeconds  grandTotal  lineItemVoids  \\\n",
       "0           5                    1054       54.70              7   \n",
       "1           3                     108       27.36              5   \n",
       "2           3                    1516       62.16              3   \n",
       "3           6                    1791       92.31              8   \n",
       "4           5                     430       81.53              3   \n",
       "\n",
       "   scansWithoutRegistration  quantityModifications  scannedLineItemsPerSecond  \\\n",
       "0                         0                      3                   0.027514   \n",
       "1                         2                      4                   0.129630   \n",
       "2                        10                      5                   0.008575   \n",
       "3                         4                      4                   0.016192   \n",
       "4                         7                      2                   0.062791   \n",
       "\n",
       "   valuePerSecond  lineItemVoidsPerPosition  fraud  \n",
       "0        0.051898                  0.241379      0  \n",
       "1        0.253333                  0.357143      0  \n",
       "2        0.041003                  0.230769      0  \n",
       "3        0.051541                  0.275862      0  \n",
       "4        0.189605                  0.111111      0  "
      ]
     },
     "execution_count": 3,
     "metadata": {},
     "output_type": "execute_result"
    }
   ],
   "source": [
    "df.head()"
   ]
  },
  {
   "cell_type": "markdown",
   "metadata": {},
   "source": [
    "Looking at the data at second glance, I saw that the column for the total amount of scanned line items is missing. \n",
    "Luckily, it can be calculated using the totalScanTimeInSeconds and the scannedLineItemsPerSecond columns. "
   ]
  },
  {
   "cell_type": "code",
   "execution_count": 4,
   "metadata": {},
   "outputs": [],
   "source": [
    "df['scannedLineItems'] = (df['totalScanTimeInSeconds']*df['scannedLineItemsPerSecond']).apply(lambda x: np.around(x, 2))"
   ]
  },
  {
   "cell_type": "code",
   "execution_count": 5,
   "metadata": {},
   "outputs": [
    {
     "data": {
      "text/plain": [
       "array([29., 14., 13., 27., 26., 11., 10., 16., 20., 21.,  6., 22., 24.,\n",
       "        4., 19., 15.,  5.,  8.,  1.,  9., 30., 25.,  7.,  2., 28., 23.,\n",
       "       17., 18.,  3., 12.])"
      ]
     },
     "execution_count": 5,
     "metadata": {},
     "output_type": "execute_result"
    }
   ],
   "source": [
    "# check if we only have integer numbers\n",
    "df['scannedLineItems'].unique()"
   ]
  },
  {
   "cell_type": "code",
   "execution_count": 6,
   "metadata": {},
   "outputs": [],
   "source": [
    "# convert the dtype to int\n",
    "df['scannedLineItems'] = df['scannedLineItems'].astype(int)"
   ]
  },
  {
   "cell_type": "code",
   "execution_count": 7,
   "metadata": {},
   "outputs": [],
   "source": [
    "# Getting an overview of the whole dataset by using pandas-profiling\n",
    "profile = ProfileReport(df, title='Pandas Profiling Report', html={'style':{'full_width':True}})"
   ]
  },
  {
   "cell_type": "code",
   "execution_count": 8,
   "metadata": {
    "scrolled": false
   },
   "outputs": [
    {
     "data": {
      "application/vnd.jupyter.widget-view+json": {
       "model_id": "09734b298f0e4d32812df7a6cf94ef8a",
       "version_major": 2,
       "version_minor": 0
      },
      "text/plain": [
       "Tab(children=(HTML(value='<div id=\"overview-content\" class=\"row variable spacing\">\\n    <div class=\"row\">\\n   …"
      ]
     },
     "metadata": {},
     "output_type": "display_data"
    },
    {
     "data": {
      "text/html": [
       "Report generated with <a href=\"https://github.com/pandas-profiling/pandas-profiling\">pandas-profiling</a>."
      ],
      "text/plain": [
       "<IPython.core.display.HTML object>"
      ]
     },
     "metadata": {},
     "output_type": "display_data"
    },
    {
     "data": {
      "text/plain": []
     },
     "execution_count": 8,
     "metadata": {},
     "output_type": "execute_result"
    }
   ],
   "source": [
    "# looking if any values are missing, how they are distributed, and if there are any significant correlations\n",
    "# of the features with the label \n",
    "\n",
    "# Create an html file for submission \n",
    "profile.to_file(output_file=\"data-profile.html\")\n",
    "\n",
    "# Showing profile inline\n",
    "profile"
   ]
  },
  {
   "cell_type": "code",
   "execution_count": 7,
   "metadata": {
    "scrolled": true
   },
   "outputs": [
    {
     "data": {
      "text/plain": [
       "trustLevel                  -0.319765\n",
       "lineItemVoidsPerPosition    -0.090116\n",
       "valuePerSecond              -0.028873\n",
       "scannedLineItemsPerSecond   -0.023085\n",
       "quantityModifications       -0.000864\n",
       "grandTotal                   0.001421\n",
       "lineItemVoids                0.063496\n",
       "scansWithoutRegistration     0.074123\n",
       "totalScanTimeInSeconds       0.110414\n",
       "scannedLineItems             0.298423\n",
       "fraud                        1.000000\n",
       "Name: fraud, dtype: float64"
      ]
     },
     "execution_count": 7,
     "metadata": {},
     "output_type": "execute_result"
    }
   ],
   "source": [
    "df.corr()['fraud'].sort_values()"
   ]
  },
  {
   "cell_type": "markdown",
   "metadata": {},
   "source": [
    "There are a few features, that correlate significantly with the data, namly trustLevel and scannedLineItems "
   ]
  },
  {
   "cell_type": "code",
   "execution_count": 8,
   "metadata": {},
   "outputs": [],
   "source": [
    "# divide the data by the label for data exploration purpose\n",
    "non_fraud, fraud = df[df['fraud']==0], df[df['fraud']==1]"
   ]
  },
  {
   "cell_type": "code",
   "execution_count": 9,
   "metadata": {},
   "outputs": [
    {
     "data": {
      "text/plain": [
       "<matplotlib.axes._subplots.AxesSubplot at 0x1a400029cc8>"
      ]
     },
     "execution_count": 9,
     "metadata": {},
     "output_type": "execute_result"
    },
    {
     "data": {
      "image/png": "[encoded data removed]",
      "text/plain": [
       "<Figure size 576x396 with 1 Axes>"
      ]
     },
     "metadata": {},
     "output_type": "display_data"
    }
   ],
   "source": [
    "# Plot the distribution of trustlevel divided by the label\n",
    "sns.distplot(non_fraud['trustLevel'])\n",
    "sns.distplot(fraud['trustLevel'])"
   ]
  },
  {
   "cell_type": "code",
   "execution_count": 10,
   "metadata": {
    "scrolled": true
   },
   "outputs": [
    {
     "data": {
      "text/plain": [
       "1    89\n",
       "2    15\n",
       "Name: trustLevel, dtype: int64"
      ]
     },
     "execution_count": 10,
     "metadata": {},
     "output_type": "execute_result"
    }
   ],
   "source": [
    "fraud['trustLevel'].value_counts()"
   ]
  },
  {
   "cell_type": "markdown",
   "metadata": {},
   "source": [
    "Fraud transactions (orange color) always have a trustLevel below 3 "
   ]
  },
  {
   "cell_type": "code",
   "execution_count": 11,
   "metadata": {},
   "outputs": [
    {
     "data": {
      "text/plain": [
       "<matplotlib.axes._subplots.AxesSubplot at 0x1a40039c448>"
      ]
     },
     "execution_count": 11,
     "metadata": {},
     "output_type": "execute_result"
    },
    {
     "data": {
      "image/png": "[encoded data removed]",
      "text/plain": [
       "<Figure size 576x396 with 1 Axes>"
      ]
     },
     "metadata": {},
     "output_type": "display_data"
    }
   ],
   "source": [
    "sns.distplot(non_fraud['scannedLineItems'])\n",
    "sns.distplot(fraud['scannedLineItems'])"
   ]
  },
  {
   "cell_type": "code",
   "execution_count": 12,
   "metadata": {},
   "outputs": [
    {
     "data": {
      "text/plain": [
       "27    15\n",
       "30    14\n",
       "28    14\n",
       "29    11\n",
       "26    11\n",
       "25    11\n",
       "23     9\n",
       "24     7\n",
       "22     3\n",
       "21     3\n",
       "19     3\n",
       "20     2\n",
       "18     1\n",
       "Name: scannedLineItems, dtype: int64"
      ]
     },
     "execution_count": 12,
     "metadata": {},
     "output_type": "execute_result"
    }
   ],
   "source": [
    "fraud['scannedLineItems'].value_counts()"
   ]
  },
  {
   "cell_type": "markdown",
   "metadata": {},
   "source": [
    "Fraud transactions (orange color) always contain more than 17 Items"
   ]
  },
  {
   "cell_type": "code",
   "execution_count": 13,
   "metadata": {},
   "outputs": [
    {
     "data": {
      "text/plain": [
       "<matplotlib.axes._subplots.AxesSubplot at 0x1a400433d08>"
      ]
     },
     "execution_count": 13,
     "metadata": {},
     "output_type": "execute_result"
    },
    {
     "data": {
      "image/png": "[encoded data removed]",
      "text/plain": [
       "<Figure size 576x396 with 1 Axes>"
      ]
     },
     "metadata": {},
     "output_type": "display_data"
    }
   ],
   "source": [
    "sns.distplot(non_fraud['totalScanTimeInSeconds'])\n",
    "sns.distplot(fraud['totalScanTimeInSeconds'])"
   ]
  },
  {
   "cell_type": "code",
   "execution_count": 14,
   "metadata": {},
   "outputs": [
    {
     "data": {
      "text/plain": [
       "<matplotlib.axes._subplots.AxesSubplot at 0x1a400531508>"
      ]
     },
     "execution_count": 14,
     "metadata": {},
     "output_type": "execute_result"
    },
    {
     "data": {
      "image/png": "[encoded data removed]",
      "text/plain": [
       "<Figure size 576x396 with 1 Axes>"
      ]
     },
     "metadata": {},
     "output_type": "display_data"
    }
   ],
   "source": [
    "sns.distplot(non_fraud['lineItemVoidsPerPosition'])\n",
    "sns.distplot(fraud['lineItemVoidsPerPosition'])"
   ]
  },
  {
   "cell_type": "code",
   "execution_count": 15,
   "metadata": {},
   "outputs": [
    {
     "data": {
      "text/plain": [
       "<matplotlib.axes._subplots.AxesSubplot at 0x1a400636ac8>"
      ]
     },
     "execution_count": 15,
     "metadata": {},
     "output_type": "execute_result"
    },
    {
     "data": {
      "image/png": "[encoded data removed]",
      "text/plain": [
       "<Figure size 576x396 with 1 Axes>"
      ]
     },
     "metadata": {},
     "output_type": "display_data"
    }
   ],
   "source": [
    "sns.distplot(non_fraud['scansWithoutRegistration'])\n",
    "sns.distplot(fraud['scansWithoutRegistration'])"
   ]
  },
  {
   "cell_type": "markdown",
   "metadata": {},
   "source": [
    "The last 3 plots don't help us that much in finding a general rule"
   ]
  },
  {
   "cell_type": "markdown",
   "metadata": {},
   "source": [
    "## Plotting the label distribution"
   ]
  },
  {
   "cell_type": "code",
   "execution_count": 16,
   "metadata": {},
   "outputs": [],
   "source": [
    "# Split the data in features and labels\n",
    "X = df.drop(['fraud'], axis=1)\n",
    "y = df['fraud']"
   ]
  },
  {
   "cell_type": "code",
   "execution_count": null,
   "metadata": {},
   "outputs": [],
   "source": []
  },
  {
   "cell_type": "code",
   "execution_count": 17,
   "metadata": {},
   "outputs": [],
   "source": [
    "import numpy as np\n",
    "from sklearn.decomposition import PCA\n",
    "pca = PCA(n_components=10)\n",
    "pca.fit(X)\n",
    "fraud_pca = pca.transform(X.loc[y==1])\n",
    "non_fraud_pca = pca.transform(X.loc[y==0])"
   ]
  },
  {
   "cell_type": "code",
   "execution_count": 18,
   "metadata": {},
   "outputs": [
    {
     "data": {
      "text/plain": [
       "0.9996218083815362"
      ]
     },
     "execution_count": 18,
     "metadata": {},
     "output_type": "execute_result"
    }
   ],
   "source": [
    "pca.explained_variance_ratio_[0]+pca.explained_variance_ratio_[1]"
   ]
  },
  {
   "cell_type": "code",
   "execution_count": 19,
   "metadata": {},
   "outputs": [
    {
     "data": {
      "text/plain": [
       "(104, 10)"
      ]
     },
     "execution_count": 19,
     "metadata": {},
     "output_type": "execute_result"
    }
   ],
   "source": [
    "fraud_pca.shape"
   ]
  },
  {
   "cell_type": "code",
   "execution_count": 20,
   "metadata": {},
   "outputs": [
    {
     "data": {
      "text/plain": [
       "<matplotlib.collections.PathCollection at 0x1a4008c8808>"
      ]
     },
     "execution_count": 20,
     "metadata": {},
     "output_type": "execute_result"
    },
    {
     "data": {
      "image/png": "[encoded data removed]",
      "text/plain": [
       "<Figure size 576x396 with 1 Axes>"
      ]
     },
     "metadata": {},
     "output_type": "display_data"
    }
   ],
   "source": [
    "plt.scatter(non_fraud_pca[:,0], non_fraud_pca[:,1])\n",
    "plt.scatter(fraud_pca[:,0], fraud_pca[:,1])"
   ]
  },
  {
   "cell_type": "code",
   "execution_count": null,
   "metadata": {},
   "outputs": [],
   "source": []
  },
  {
   "cell_type": "markdown",
   "metadata": {},
   "source": [
    "# Models"
   ]
  },
  {
   "cell_type": "code",
   "execution_count": 21,
   "metadata": {},
   "outputs": [],
   "source": [
    "# Split the data in features and labels\n",
    "X = df.drop(['fraud'], axis=1)\n",
    "y = df['fraud']"
   ]
  },
  {
   "cell_type": "code",
   "execution_count": 22,
   "metadata": {},
   "outputs": [],
   "source": [
    "from sklearn.model_selection import cross_validate\n",
    "from sklearn.metrics import make_scorer, f1_score, accuracy_score, precision_score, recall_score"
   ]
  },
  {
   "cell_type": "code",
   "execution_count": 2,
   "metadata": {},
   "outputs": [],
   "source": [
    "# create the error function, that is demanded by the challenge rules\n",
    "# adapt the the error to display the value per line item, so it is comparable between different dataset sizes\n",
    "def challenge_error(y_true, y_pred, print_stats=False): \n",
    "    TP = 0\n",
    "    FP = 0\n",
    "    TN = 0\n",
    "    FN = 0\n",
    "    # convert to array, or else we can get strange key errors\n",
    "    y_true = list(y_true)\n",
    "    y_pred = list(y_pred)\n",
    "    \n",
    "    # determine TP, FP, TN and FN \n",
    "    for i in range(len(y_true)): \n",
    "        if y_true[i]==y_pred[i]==1:\n",
    "            TP += 1\n",
    "        if y_pred[i]==1 and y_pred[i]!=y_true[i]:\n",
    "            FP += 1\n",
    "        if y_true[i]==y_pred[i]==0:\n",
    "            TN += 1\n",
    "        if y_pred[i]==0 and y_pred[i]!=y_true[i]:\n",
    "            FN += 1\n",
    "    # option to display detailed results        \n",
    "    if print_stats: \n",
    "        print(\"TP (correctly identified fraud): {} - {}€\\nFP (incorrectly labeled fraud): {} - {}€\\nFN (missed fraud detection): {} - {}€\\nTN: {}\\n\\nTotal: {}€\"\n",
    "                .format(TP, TP*5, FP, FP*-25, FN, FN*-5, TN, TP*5+FP*-25+FN*-5))\n",
    "    \n",
    "    return (TP*5 + FP*-25 + FN*-5)/len(y_true)\n",
    "    "
   ]
  },
  {
   "cell_type": "code",
   "execution_count": 24,
   "metadata": {},
   "outputs": [],
   "source": [
    "# make error function a scoring function for scikit-learn\n",
    "scoring = {'error' : make_scorer(challenge_error)}"
   ]
  },
  {
   "cell_type": "markdown",
   "metadata": {},
   "source": [
    "## DummyClassifier"
   ]
  },
  {
   "cell_type": "markdown",
   "metadata": {},
   "source": [
    "At first, I will see how a dummy classifier would perform \n",
    "Here I decided to check what the error score would be, if we wouldn't try to detect frauds at all "
   ]
  },
  {
   "cell_type": "code",
   "execution_count": 25,
   "metadata": {},
   "outputs": [
    {
     "name": "stdout",
     "output_type": "stream",
     "text": [
      "TP (correctly identified fraud): 0 - 0€\n",
      "FP (incorrectly labeled fraud): 0 - 0€\n",
      "FN (missed fraud detection): 104 - -520€\n",
      "TN: 1775\n",
      "\n",
      "Total: -520€\n"
     ]
    },
    {
     "data": {
      "text/plain": [
       "-0.2767429483767962"
      ]
     },
     "execution_count": 25,
     "metadata": {},
     "output_type": "execute_result"
    }
   ],
   "source": [
    "from sklearn.dummy import DummyClassifier\n",
    "\n",
    "clf = DummyClassifier(strategy='most_frequent')\n",
    "clf.fit(X,y)\n",
    "y_pred = clf.predict(X)\n",
    "challenge_error(y, y_pred, print_stats=True)"
   ]
  },
  {
   "cell_type": "markdown",
   "metadata": {},
   "source": [
    "This will be the first baseline, that other models will have to top"
   ]
  },
  {
   "cell_type": "markdown",
   "metadata": {},
   "source": [
    "## Logical Reasoning"
   ]
  },
  {
   "cell_type": "markdown",
   "metadata": {},
   "source": [
    "### Part 1\n",
    "\n",
    "We already saw a few patterns in the data.\n",
    "Maybe we can just built some basic general rules, that will help us detect the frauds?! "
   ]
  },
  {
   "cell_type": "code",
   "execution_count": 26,
   "metadata": {},
   "outputs": [
    {
     "data": {
      "text/plain": [
       "0    191\n",
       "1    104\n",
       "Name: fraud, dtype: int64"
      ]
     },
     "execution_count": 26,
     "metadata": {},
     "output_type": "execute_result"
    }
   ],
   "source": [
    "# Check how many data points would be fraud and non-fraud using the general rule\n",
    "df[(df['trustLevel']<=2) & (df['scannedLineItems']>=18)]['fraud'].value_counts()"
   ]
  },
  {
   "cell_type": "code",
   "execution_count": 27,
   "metadata": {},
   "outputs": [
    {
     "data": {
      "text/plain": [
       "0    520\n",
       "Name: fraud, dtype: int64"
      ]
     },
     "execution_count": 27,
     "metadata": {},
     "output_type": "execute_result"
    }
   ],
   "source": [
    "df[~(df['trustLevel']<=2) & (df['scannedLineItems']>=18)]['fraud'].value_counts()"
   ]
  },
  {
   "cell_type": "markdown",
   "metadata": {},
   "source": [
    "We can see, that we narrowed down the data to a smaller set (suspicious transactions), while still not missing any frauds"
   ]
  },
  {
   "cell_type": "code",
   "execution_count": 28,
   "metadata": {
    "scrolled": true
   },
   "outputs": [
    {
     "name": "stdout",
     "output_type": "stream",
     "text": [
      "TP (correctly identified fraud): 104 - 520€\n",
      "FP (incorrectly labeled fraud): 191 - -4775€\n",
      "FN (missed fraud detection): 0 - 0€\n",
      "TN: 1584\n",
      "\n",
      "Total: -4255€\n"
     ]
    },
    {
     "data": {
      "text/plain": [
       "-2.2645023948908993"
      ]
     },
     "execution_count": 28,
     "metadata": {},
     "output_type": "execute_result"
    }
   ],
   "source": [
    "# check performance using the general rule\n",
    "y_pred = np.where(((X['trustLevel']<=2)&(X['scannedLineItems']>=18)), 1, 0)\n",
    "challenge_error(y, y_pred, print_stats=True)"
   ]
  },
  {
   "cell_type": "markdown",
   "metadata": {},
   "source": [
    "This didn't go well, mainly because we labeled a lot of transactions as fraud that weren't. \n",
    "Because this is penalized very strong, we actually performing worse than not trying to detect any frauds at all. "
   ]
  },
  {
   "cell_type": "markdown",
   "metadata": {},
   "source": [
    "### Part 2\n",
    "\n",
    "We can try to adjust our rule, by not labeling every suspicious transaction as fraud, but by actually looking at the percentage of transactions that are fraud in the suspicious transactions and labeling them using this relative frequency"
   ]
  },
  {
   "cell_type": "code",
   "execution_count": 29,
   "metadata": {
    "scrolled": true
   },
   "outputs": [
    {
     "data": {
      "text/plain": [
       "0.3525423728813559"
      ]
     },
     "execution_count": 29,
     "metadata": {},
     "output_type": "execute_result"
    }
   ],
   "source": [
    "# Use the rule identified above: trustLevel below 3 and scannedLineItems above 17\n",
    "pattern = df[(df['trustLevel']<=2) & (df['scannedLineItems']>=18)]['fraud'].value_counts()\n",
    "p1 = pattern[0]/pattern.sum()\n",
    "p2 = pattern[1]/pattern.sum()\n",
    "p2"
   ]
  },
  {
   "cell_type": "markdown",
   "metadata": {},
   "source": [
    "35% of the suspicous transactions are fraud"
   ]
  },
  {
   "cell_type": "code",
   "execution_count": 30,
   "metadata": {},
   "outputs": [
    {
     "name": "stdout",
     "output_type": "stream",
     "text": [
      "TP (correctly identified fraud): 32 - 160€\n",
      "FP (incorrectly labeled fraud): 66 - -1650€\n",
      "FN (missed fraud detection): 72 - -360€\n",
      "TN: 1709\n",
      "\n",
      "Total: -1850€\n"
     ]
    },
    {
     "data": {
      "text/plain": [
       "-0.9845662586482171"
      ]
     },
     "execution_count": 30,
     "metadata": {},
     "output_type": "execute_result"
    }
   ],
   "source": [
    "y_pred = []\n",
    "for _, val in X.iterrows():\n",
    "    if (val['trustLevel']<=2) & (val['scannedLineItems']>=18):\n",
    "        y_pred.append(np.random.choice(2, p=[p1, p2]))\n",
    "    else:\n",
    "        y_pred.append(0)\n",
    "challenge_error(y, y_pred, print_stats=True)"
   ]
  },
  {
   "cell_type": "markdown",
   "metadata": {},
   "source": [
    "This worked way better than the first try but not as good as not detecting any frauds at all. \n",
    "We still have a huge amount of transactions incorretly labeled as fraud. "
   ]
  },
  {
   "cell_type": "markdown",
   "metadata": {},
   "source": [
    "### Part 3\n",
    "\n",
    "With the huge penalty for FPs in mind, we can generate a stricter rule, when we classify suspicous transactions as fraud. \n"
   ]
  },
  {
   "cell_type": "code",
   "execution_count": 31,
   "metadata": {},
   "outputs": [
    {
     "data": {
      "text/plain": [
       "0.7777777777777778"
      ]
     },
     "execution_count": 31,
     "metadata": {},
     "output_type": "execute_result"
    }
   ],
   "source": [
    "# Change the rule to trustLevel below 2 and scannedLineItems above 22\n",
    "pattern = df[(df['trustLevel']<=1) & (df['scannedLineItems']>=23)]['fraud'].value_counts()\n",
    "p1 = pattern[0]/pattern.sum()\n",
    "p2 = pattern[1]/pattern.sum()\n",
    "p2"
   ]
  },
  {
   "cell_type": "markdown",
   "metadata": {},
   "source": [
    "Now 77.7% of the suspicious transactions are actually fraud. \n",
    "That relative frequency is used again to identify fraud transactions"
   ]
  },
  {
   "cell_type": "code",
   "execution_count": 32,
   "metadata": {},
   "outputs": [
    {
     "name": "stdout",
     "output_type": "stream",
     "text": [
      "TP (correctly identified fraud): 48 - 240€\n",
      "FP (incorrectly labeled fraud): 10 - -250€\n",
      "FN (missed fraud detection): 56 - -280€\n",
      "TN: 1765\n",
      "\n",
      "Total: -290€\n"
     ]
    },
    {
     "data": {
      "text/plain": [
       "-0.15433741351782862"
      ]
     },
     "execution_count": 32,
     "metadata": {},
     "output_type": "execute_result"
    }
   ],
   "source": [
    "y_pred = []\n",
    "for _, val in X.iterrows():\n",
    "    if (val['trustLevel']<=1) & (val['scannedLineItems']>=25):\n",
    "        y_pred.append(np.random.choice(2, p=[p1, p2]))\n",
    "    else:\n",
    "        y_pred.append(0)\n",
    "challenge_error(y, y_pred, print_stats=True)"
   ]
  },
  {
   "cell_type": "markdown",
   "metadata": {},
   "source": [
    "Now we are actually performing better than not labeling frauds at all! \n",
    "Let's use that as our new baseline. "
   ]
  },
  {
   "cell_type": "markdown",
   "metadata": {},
   "source": [
    "## SVM"
   ]
  },
  {
   "cell_type": "code",
   "execution_count": 55,
   "metadata": {},
   "outputs": [
    {
     "data": {
      "text/plain": [
       "{'fit_time': array([0.00797796, 0.00598383, 0.00698256, 0.00498366, 0.00692153]),\n",
       " 'score_time': array([0.00199437, 0.00199437, 0.0029912 , 0.00198007, 0.00199556]),\n",
       " 'test_error': array([0.11968085, 0.11968085, 0.1462766 , 0.        , 0.18666667]),\n",
       " 'train_error': array([0.166334  , 0.10978044, 0.15302728, 0.1497006 , 0.16289894])}"
      ]
     },
     "execution_count": 55,
     "metadata": {},
     "output_type": "execute_result"
    }
   ],
   "source": [
    "from sklearn.svm import LinearSVC\n",
    "\n",
    "clf = LinearSVC(dual=False, C=1, random_state=1)\n",
    "scores = cross_validate(clf, X, y, cv=5, scoring=scoring, return_train_score=True)\n",
    "scores"
   ]
  },
  {
   "cell_type": "code",
   "execution_count": 73,
   "metadata": {},
   "outputs": [
    {
     "data": {
      "text/plain": [
       "{'fit_time': array([0.00299287, 0.00299597, 0.00393844, 0.00299168, 0.00299287]),\n",
       " 'score_time': array([0.00099802, 0.00097823, 0.0009973 , 0.00099778, 0.00099397]),\n",
       " 'test_error': array([0.06648936, 0.22606383, 0.27925532, 0.13297872, 0.16      ]),\n",
       " 'train_error': array([0.22621424, 0.17964072, 0.15968064, 0.17964072, 0.1462766 ])}"
      ]
     },
     "execution_count": 73,
     "metadata": {},
     "output_type": "execute_result"
    }
   ],
   "source": [
    "from sklearn.preprocessing import MinMaxScaler\n",
    "clf1 = LinearSVC(C=1)\n",
    "scaler = MinMaxScaler()\n",
    "X_scaled = scaler.fit_transform(X)\n",
    "scores = cross_validate(clf1, X_scaled, y, cv=5, scoring=scoring, return_train_score=True)\n",
    "scores"
   ]
  },
  {
   "cell_type": "code",
   "execution_count": 74,
   "metadata": {},
   "outputs": [
    {
     "data": {
      "text/plain": [
       "{'fit_time': array([0.00598884, 0.00498915, 0.004987  , 0.00498676, 0.00594878]),\n",
       " 'score_time': array([0.00100493, 0.00193954, 0.00099683, 0.00199413, 0.00199652]),\n",
       " 'test_error': array([-0.02659574,  0.19946809,  0.22606383,  0.25265957,  0.10666667]),\n",
       " 'train_error': array([0.22288756, 0.15302728, 0.11310712, 0.15302728, 0.16954787])}"
      ]
     },
     "execution_count": 74,
     "metadata": {},
     "output_type": "execute_result"
    }
   ],
   "source": [
    "from sklearn.svm import SVC\n",
    "clf2 = SVC(random_state=3, C=1, kernel='linear')\n",
    "scaler = MinMaxScaler()\n",
    "X_scaled = scaler.fit_transform(X)\n",
    "scores = cross_validate(clf2, X_scaled, y, cv=5, scoring=scoring, return_train_score=True)\n",
    "scores\n"
   ]
  },
  {
   "cell_type": "code",
   "execution_count": 75,
   "metadata": {},
   "outputs": [
    {
     "data": {
      "text/plain": [
       "{'fit_time': array([0.0035038 , 0.00199556, 0.00299311, 0.00199556, 0.00199389]),\n",
       " 'score_time': array([0.00099802, 0.00099778, 0.00099707, 0.00099611, 0.0009973 ]),\n",
       " 'test_error': array([ 0.02659574, -0.45212766,  0.17287234, -0.45212766, -0.13333333]),\n",
       " 'train_error': array([ 0.17298736, -0.27278776,  0.07651364, -0.48902196,  0.03989362])}"
      ]
     },
     "execution_count": 75,
     "metadata": {},
     "output_type": "execute_result"
    }
   ],
   "source": [
    "from sklearn.linear_model import SGDClassifier\n",
    "clf3 = SGDClassifier()\n",
    "X_scaled = scaler.fit_transform(X)\n",
    "scores = cross_validate(clf3, X_scaled, y, cv=5, scoring=scoring, return_train_score=True)\n",
    "scores"
   ]
  },
  {
   "cell_type": "code",
   "execution_count": 59,
   "metadata": {},
   "outputs": [
    {
     "data": {
      "text/plain": [
       "{'fit_time': array([0.00104189, 0.01192021, 0.01003146, 0.00897455, 0.01568079]),\n",
       " 'score_time': array([0.        , 0.00402474, 0.00396752, 0.00397372, 0.        ]),\n",
       " 'test_error': array([-0.05319149,  0.19946809,  0.22606383,  0.18617021,  0.13333333]),\n",
       " 'train_error': array([0.22288756, 0.13639388, 0.12974052, 0.16300732, 0.15957447])}"
      ]
     },
     "execution_count": 59,
     "metadata": {},
     "output_type": "execute_result"
    }
   ],
   "source": [
    "from sklearn.ensemble import VotingClassifier\n",
    "eclf1 = VotingClassifier(estimators=[('svm', clf1), ('svc', clf2), ('sgd', clf3)], voting='hard')\n",
    "X_scaled = scaler.fit_transform(X)\n",
    "scores = cross_validate(eclf1, X_scaled, y, cv=5, scoring=scoring, return_train_score=True)\n",
    "scores"
   ]
  },
  {
   "cell_type": "code",
   "execution_count": 61,
   "metadata": {},
   "outputs": [
    {
     "data": {
      "text/plain": [
       "0.13836879432624113"
      ]
     },
     "execution_count": 61,
     "metadata": {},
     "output_type": "execute_result"
    }
   ],
   "source": [
    "scores['test_error'].mean()"
   ]
  },
  {
   "cell_type": "code",
   "execution_count": 58,
   "metadata": {},
   "outputs": [
    {
     "data": {
      "text/plain": [
       "0.11446099400000001"
      ]
     },
     "execution_count": 58,
     "metadata": {},
     "output_type": "execute_result"
    }
   ],
   "source": [
    "score1 = np.array([0.11968085, 0.11968085, 0.1462766 , 0.        , 0.18666667])\n",
    "score1.mean()"
   ]
  },
  {
   "cell_type": "markdown",
   "metadata": {},
   "source": [
    "Performance is not really good.. \n",
    "I ignored the skewed label distribution until now. "
   ]
  },
  {
   "cell_type": "code",
   "execution_count": 39,
   "metadata": {},
   "outputs": [
    {
     "data": {
      "text/plain": [
       "0    1775\n",
       "1     104\n",
       "Name: fraud, dtype: int64"
      ]
     },
     "execution_count": 39,
     "metadata": {},
     "output_type": "execute_result"
    }
   ],
   "source": [
    "df['fraud'].value_counts()"
   ]
  },
  {
   "cell_type": "code",
   "execution_count": 40,
   "metadata": {
    "scrolled": true
   },
   "outputs": [
    {
     "data": {
      "text/plain": [
       "0.05534858967535923"
      ]
     },
     "execution_count": 40,
     "metadata": {},
     "output_type": "execute_result"
    }
   ],
   "source": [
    "len(df[df['fraud']==1])/len(df)"
   ]
  },
  {
   "cell_type": "markdown",
   "metadata": {},
   "source": [
    "Only 5.53% of the labels are 1 (fraud). "
   ]
  },
  {
   "cell_type": "markdown",
   "metadata": {},
   "source": [
    "One thing to overcome those skewed labels is using ensembling methods. \n",
    "In the following I will use Random Forest and XGBoost, as they are both using ensemble techniques. "
   ]
  },
  {
   "cell_type": "markdown",
   "metadata": {},
   "source": [
    "## RandomForest"
   ]
  },
  {
   "cell_type": "code",
   "execution_count": 76,
   "metadata": {
    "scrolled": true
   },
   "outputs": [
    {
     "data": {
      "text/plain": [
       "{'fit_time': array([0.18752384, 0.17757225, 0.17752576, 0.17752528, 0.20648408]),\n",
       " 'score_time': array([0.01097155, 0.00997329, 0.01097059, 0.00997305, 0.00997376]),\n",
       " 'test_error': array([ 0.09308511,  0.06648936,  0.06648936,  0.02659574, -0.13333333]),\n",
       " 'train_error': array([0.27611444, 0.27611444, 0.27611444, 0.27611444, 0.27925532])}"
      ]
     },
     "execution_count": 76,
     "metadata": {},
     "output_type": "execute_result"
    }
   ],
   "source": [
    "from sklearn.ensemble import RandomForestClassifier\n",
    "clf = RandomForestClassifier(random_state=0)\n",
    "scores = cross_validate(clf, X, y, cv=5, scoring=scoring, return_train_score=True)\n",
    "scores"
   ]
  },
  {
   "cell_type": "markdown",
   "metadata": {},
   "source": [
    "## XGBoost\n"
   ]
  },
  {
   "cell_type": "code",
   "execution_count": 79,
   "metadata": {
    "scrolled": true
   },
   "outputs": [
    {
     "data": {
      "text/plain": [
       "{'fit_time': array([0.06833029, 0.06248474, 0.06972671, 0.06290054, 0.06092548]),\n",
       " 'score_time': array([0.        , 0.        , 0.        , 0.        , 0.00805926]),\n",
       " 'test_error': array([-0.09308511,  0.09308511,  0.11968085,  0.03989362,  0.01333333]),\n",
       " 'train_error': array([0.26946108, 0.27611444, 0.26946108, 0.27611444, 0.27925532])}"
      ]
     },
     "execution_count": 79,
     "metadata": {},
     "output_type": "execute_result"
    }
   ],
   "source": [
    "from xgboost import XGBClassifier\n",
    "clf = XGBClassifier(random_state=0)\n",
    "scores = cross_validate(clf, X, y, cv=5, scoring=scoring, return_train_score=True)\n",
    "scores"
   ]
  },
  {
   "cell_type": "markdown",
   "metadata": {},
   "source": [
    "Success! Both of the models perform way better than the baseline using logical reasoning. \n",
    "XGBoost has a slight advantage over RandomForest so I will use this model to label the test data!"
   ]
  },
  {
   "cell_type": "markdown",
   "metadata": {},
   "source": [
    "## Labeling final submission data"
   ]
  },
  {
   "cell_type": "code",
   "execution_count": 80,
   "metadata": {},
   "outputs": [],
   "source": [
    "clf = XGBClassifier(random_state=0, subsample=0.5)"
   ]
  },
  {
   "cell_type": "code",
   "execution_count": 81,
   "metadata": {},
   "outputs": [
    {
     "data": {
      "text/plain": [
       "XGBClassifier(base_score=0.5, booster='gbtree', colsample_bylevel=1,\n",
       "              colsample_bynode=1, colsample_bytree=1, gamma=0,\n",
       "              learning_rate=0.1, max_delta_step=0, max_depth=3,\n",
       "              min_child_weight=1, missing=None, n_estimators=100, n_jobs=1,\n",
       "              nthread=None, objective='binary:logistic', random_state=0,\n",
       "              reg_alpha=0, reg_lambda=1, scale_pos_weight=1, seed=None,\n",
       "              silent=None, subsample=0.5, verbosity=1)"
      ]
     },
     "execution_count": 81,
     "metadata": {},
     "output_type": "execute_result"
    }
   ],
   "source": [
    "# scaler = MinMaxScaler()\n",
    "# X_scaled = scaler.fit_transform(X)\n",
    "clf.fit(X, y)"
   ]
  },
  {
   "cell_type": "code",
   "execution_count": 69,
   "metadata": {},
   "outputs": [],
   "source": [
    "X_test = test\n",
    "# \"Pipeline\" to calculate scannedLineItems feature\n",
    "X_test['scannedLineItems'] = (test['totalScanTimeInSeconds']*test['scannedLineItemsPerSecond']).apply(lambda x: np.around(x, 2)).astype(int)\n"
   ]
  },
  {
   "cell_type": "code",
   "execution_count": null,
   "metadata": {},
   "outputs": [],
   "source": [
    "y_pred = clf.predict(X_test)"
   ]
  },
  {
   "cell_type": "code",
   "execution_count": 109,
   "metadata": {},
   "outputs": [],
   "source": [
    "output = pd.DataFrame({'fraud': y_pred})\n",
    "output.to_csv('./data/Luis_Habenicht-prediction.csv', index=False)"
   ]
  },
  {
   "cell_type": "code",
   "execution_count": 7,
   "metadata": {},
   "outputs": [
    {
     "data": {
      "text/html": [
       "<div>\n",
       "<style scoped>\n",
       "    .dataframe tbody tr th:only-of-type {\n",
       "        vertical-align: middle;\n",
       "    }\n",
       "\n",
       "    .dataframe tbody tr th {\n",
       "        vertical-align: top;\n",
       "    }\n",
       "\n",
       "    .dataframe thead th {\n",
       "        text-align: right;\n",
       "    }\n",
       "</style>\n",
       "<table border=\"1\" class=\"dataframe\">\n",
       "  <thead>\n",
       "    <tr style=\"text-align: right;\">\n",
       "      <th></th>\n",
       "      <th>fraud</th>\n",
       "    </tr>\n",
       "  </thead>\n",
       "  <tbody>\n",
       "    <tr>\n",
       "      <th>0</th>\n",
       "      <td>0</td>\n",
       "    </tr>\n",
       "    <tr>\n",
       "      <th>1</th>\n",
       "      <td>0</td>\n",
       "    </tr>\n",
       "    <tr>\n",
       "      <th>2</th>\n",
       "      <td>0</td>\n",
       "    </tr>\n",
       "    <tr>\n",
       "      <th>3</th>\n",
       "      <td>0</td>\n",
       "    </tr>\n",
       "    <tr>\n",
       "      <th>4</th>\n",
       "      <td>0</td>\n",
       "    </tr>\n",
       "    <tr>\n",
       "      <th>...</th>\n",
       "      <td>...</td>\n",
       "    </tr>\n",
       "    <tr>\n",
       "      <th>498116</th>\n",
       "      <td>0</td>\n",
       "    </tr>\n",
       "    <tr>\n",
       "      <th>498117</th>\n",
       "      <td>0</td>\n",
       "    </tr>\n",
       "    <tr>\n",
       "      <th>498118</th>\n",
       "      <td>0</td>\n",
       "    </tr>\n",
       "    <tr>\n",
       "      <th>498119</th>\n",
       "      <td>0</td>\n",
       "    </tr>\n",
       "    <tr>\n",
       "      <th>498120</th>\n",
       "      <td>0</td>\n",
       "    </tr>\n",
       "  </tbody>\n",
       "</table>\n",
       "<p>498121 rows × 1 columns</p>\n",
       "</div>"
      ],
      "text/plain": [
       "        fraud\n",
       "0           0\n",
       "1           0\n",
       "2           0\n",
       "3           0\n",
       "4           0\n",
       "...       ...\n",
       "498116      0\n",
       "498117      0\n",
       "498118      0\n",
       "498119      0\n",
       "498120      0\n",
       "\n",
       "[498121 rows x 1 columns]"
      ]
     },
     "execution_count": 7,
     "metadata": {},
     "output_type": "execute_result"
    }
   ],
   "source": [
    "y_test = pd.read_csv('./data/DMC-2019-realclass.csv')\n",
    "y_test"
   ]
  },
  {
   "cell_type": "code",
   "execution_count": 85,
   "metadata": {},
   "outputs": [
    {
     "name": "stdout",
     "output_type": "stream",
     "text": [
      "TP (correctly identified fraud): 19439 - 97195€\n",
      "FP (incorrectly labeled fraud): 2351 - -58775€\n",
      "FN (missed fraud detection): 4288 - -21440€\n",
      "TN: 472043\n",
      "\n",
      "Total: 16980€\n"
     ]
    },
    {
     "data": {
      "text/plain": [
       "0.03408810309141755"
      ]
     },
     "execution_count": 85,
     "metadata": {},
     "output_type": "execute_result"
    }
   ],
   "source": [
    "challenge_error(y_test.values, y_pred, print_stats=True)"
   ]
  },
  {
   "cell_type": "code",
   "execution_count": 70,
   "metadata": {
    "scrolled": true
   },
   "outputs": [
    {
     "name": "stdout",
     "output_type": "stream",
     "text": [
      "TP (correctly identified fraud): 21403 - 107015€\n",
      "FP (incorrectly labeled fraud): 2338 - -58450€\n",
      "FN (missed fraud detection): 2324 - -11620€\n",
      "TN: 472056\n",
      "\n",
      "Total: 36945€\n"
     ]
    },
    {
     "data": {
      "text/plain": [
       "0.07416872607258077"
      ]
     },
     "execution_count": 70,
     "metadata": {},
     "output_type": "execute_result"
    }
   ],
   "source": [
    "clf2 = LinearSVC(dual=False, C=1000, random_state=3)\n",
    "clf2.fit(X,y)\n",
    "challenge_error(y_test.values, clf2.predict(X_test), print_stats=True)"
   ]
  },
  {
   "cell_type": "code",
   "execution_count": 71,
   "metadata": {},
   "outputs": [
    {
     "name": "stdout",
     "output_type": "stream",
     "text": [
      "TP (correctly identified fraud): 18930 - 94650€\n",
      "FP (incorrectly labeled fraud): 1050 - -26250€\n",
      "FN (missed fraud detection): 4797 - -23985€\n",
      "TN: 473344\n",
      "\n",
      "Total: 44415€\n"
     ]
    },
    {
     "data": {
      "text/plain": [
       "0.08916508237958247"
      ]
     },
     "execution_count": 71,
     "metadata": {},
     "output_type": "execute_result"
    }
   ],
   "source": [
    "clf3 = LinearSVC(dual=True, C=0.4, random_state=3)\n",
    "scaler = MinMaxScaler()\n",
    "X_scaled = scaler.fit_transform(X)\n",
    "clf3.fit(X_scaled,y)\n",
    "challenge_error(y_test.values, clf3.predict(scaler.fit_transform(X_test)), print_stats=True)"
   ]
  },
  {
   "cell_type": "code",
   "execution_count": 77,
   "metadata": {},
   "outputs": [
    {
     "name": "stdout",
     "output_type": "stream",
     "text": [
      "TP (correctly identified fraud): 17709 - 88545€\n",
      "FP (incorrectly labeled fraud): 521 - -13025€\n",
      "FN (missed fraud detection): 6018 - -30090€\n",
      "TN: 473873\n",
      "\n",
      "Total: 45430€\n"
     ]
    },
    {
     "data": {
      "text/plain": [
       "0.09120273989653116"
      ]
     },
     "execution_count": 77,
     "metadata": {},
     "output_type": "execute_result"
    }
   ],
   "source": [
    "from sklearn.ensemble import VotingClassifier\n",
    "eclf1 = VotingClassifier(estimators=[('svm', LinearSVC(C=0.4)), ('svc', SVC()), ('sgd', SGDClassifier())], voting='hard')\n",
    "scaler = MinMaxScaler()\n",
    "X_scaled = scaler.fit_transform(X)\n",
    "eclf1.fit(X_scaled,y)\n",
    "challenge_error(y_test.values, eclf1.predict(scaler.fit_transform(X_test)), print_stats=True)"
   ]
  },
  {
   "cell_type": "code",
   "execution_count": 107,
   "metadata": {},
   "outputs": [
    {
     "name": "stdout",
     "output_type": "stream",
     "text": [
      "TP (correctly identified fraud): 21762 - 108810€\n",
      "FP (incorrectly labeled fraud): 3048 - -76200€\n",
      "FN (missed fraud detection): 1965 - -9825€\n",
      "TN: 471346\n",
      "\n",
      "Total: 22785€\n"
     ]
    },
    {
     "data": {
      "text/plain": [
       "0.045741898052882736"
      ]
     },
     "execution_count": 107,
     "metadata": {},
     "output_type": "execute_result"
    }
   ],
   "source": [
    "from sklearn.preprocessing import StandardScaler\n",
    "clf4 = LinearSVC(dual=False, C=1000, random_state=3)\n",
    "scaler = StandardScaler()\n",
    "X_scaled = scaler.fit_transform(X)\n",
    "clf4.fit(X_scaled,y)\n",
    "challenge_error(y_test.values, clf4.predict(scaler.fit_transform(X_test)), print_stats=True)"
   ]
  },
  {
   "cell_type": "code",
   "execution_count": 167,
   "metadata": {},
   "outputs": [
    {
     "name": "stdout",
     "output_type": "stream",
     "text": [
      "TP (correctly identified fraud): 18341 - 91705€\n",
      "FP (incorrectly labeled fraud): 3869 - -96725€\n",
      "FN (missed fraud detection): 5386 - -26930€\n",
      "TN: 470525\n",
      "\n",
      "Total: -31950€\n"
     ]
    },
    {
     "data": {
      "text/plain": [
       "-0.06414104203597118"
      ]
     },
     "execution_count": 167,
     "metadata": {},
     "output_type": "execute_result"
    }
   ],
   "source": [
    "from imblearn.over_sampling import SMOTE\n",
    "sm = SMOTE(random_state=2)\n",
    "X_train_res, y_train_res = sm.fit_sample(X, y)\n",
    "clf = XGBClassifier(random_state=0, scale_pos_weight=0.1)\n",
    "clf.fit(X_train_res,y_train_res)\n",
    "challenge_error(y_test.values, clf.predict(X_test), print_stats=True)"
   ]
  },
  {
   "cell_type": "code",
   "execution_count": 9,
   "metadata": {},
   "outputs": [],
   "source": [
    "y_pred = pd.read_csv('./data/Luis_Habenicht-prediction.csv')\n"
   ]
  },
  {
   "cell_type": "code",
   "execution_count": 15,
   "metadata": {},
   "outputs": [
    {
     "name": "stdout",
     "output_type": "stream",
     "text": [
      "TP (correctly identified fraud): 0 - 0€\n",
      "FP (incorrectly labeled fraud): 0 - 0€\n",
      "FN (missed fraud detection): 23727 - -118635€\n",
      "TN: 474394\n",
      "\n",
      "Total: -118635€\n"
     ]
    },
    {
     "data": {
      "text/plain": [
       "-0.23816502416079627"
      ]
     },
     "execution_count": 15,
     "metadata": {},
     "output_type": "execute_result"
    }
   ],
   "source": [
    "challenge_error(y_test.values, y_pred.values, print_stats=True)"
   ]
  },
  {
   "cell_type": "code",
   "execution_count": 23,
   "metadata": {},
   "outputs": [
    {
     "data": {
      "text/plain": [
       "fraud    498121\n",
       "dtype: int64"
      ]
     },
     "execution_count": 23,
     "metadata": {},
     "output_type": "execute_result"
    }
   ],
   "source": [
    "y_test.count()"
   ]
  },
  {
   "cell_type": "code",
   "execution_count": null,
   "metadata": {},
   "outputs": [],
   "source": []
  }
 ],
 "metadata": {
  "kernelspec": {
   "display_name": "Python 3",
   "language": "python",
   "name": "python3"
  },
  "language_info": {
   "codemirror_mode": {
    "name": "ipython",
    "version": 3
   },
   "file_extension": ".py",
   "mimetype": "text/x-python",
   "name": "python",
   "nbconvert_exporter": "python",
   "pygments_lexer": "ipython3",
   "version": "3.7.3"
  }
 },
 "nbformat": 4,
 "nbformat_minor": 2
}
